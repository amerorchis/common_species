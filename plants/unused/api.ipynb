{
 "cells": [
  {
   "cell_type": "code",
   "execution_count": null,
   "metadata": {},
   "outputs": [],
   "source": [
    "import requests\n",
    "from concurrent.futures import ThreadPoolExecutor"
   ]
  },
  {
   "cell_type": "code",
   "execution_count": null,
   "metadata": {},
   "outputs": [],
   "source": [
    "# set up the API endpoint URL and query parameters for Glacier National Park observations\n",
    "glacier_url = 'https://api.inaturalist.org/v1/observations'\n",
    "glacier_params = {\n",
    "    'per_page': 200, # maximum number of results per page\n",
    "    'place_id': 6804, # Glacier National Park place ID\n",
    "    'taxon_id': 47126, # plant taxon ID\n",
    "    'order': 'desc',\n",
    "    'order_by': 'observed_on',\n",
    "    'quality_grade': 'research'\n",
    "}\n",
    "\n",
    "# set up the API endpoint URL and query parameters for the user's observations\n",
    "user_url = 'https://api.inaturalist.org/v1/observations'\n",
    "user_params = {\n",
    "    'per_page': 200, # maximum number of results per page\n",
    "    'user_id': 'apsmith10', # replace with your iNaturalist user ID\n",
    "    'order': 'desc',\n",
    "    'order_by': 'observed_on',\n",
    "    'taxon_id': 47126, # plant taxon ID\n",
    "\n",
    "}\n",
    "\n",
    "# function to retrieve observations from the API\n",
    "def get_observations(url, params):\n",
    "    results = []\n",
    "    page = 1\n",
    "    total_results = float('inf')\n",
    "    while len(results) < total_results:\n",
    "        params['page'] = page\n",
    "        try:\n",
    "            response = requests.get(url, params=params)\n",
    "            response.raise_for_status()\n",
    "        except requests.exceptions.ConnectionError as e:\n",
    "            print(f'Encountered MaxRetryError: {e}')\n",
    "            pass\n",
    "        except requests.exceptions.RequestException as e:\n",
    "            print(f'Request failed with error: {e}')\n",
    "            pass\n",
    "        response_json = response.json()\n",
    "        total_results = response_json['total_results']\n",
    "        results.extend(response_json['results'])\n",
    "        page += 1\n",
    "    return results\n",
    "\n",
    "# use ThreadPoolExecutor to retrieve observations in parallel\n",
    "with ThreadPoolExecutor(max_workers=2) as executor:\n",
    "    glacier_future = executor.submit(get_observations, glacier_url, glacier_params)\n",
    "    user_future = executor.submit(get_observations, user_url, user_params)\n",
    "\n",
    "glacier_results = glacier_future.result()\n",
    "user_results = user_future.result()\n",
    "print(f'Len glac: {len(glacier_results)}')\n",
    "print(f'User glac: {len(user_results)}')"
   ]
  }
 ],
 "metadata": {
  "kernelspec": {
   "display_name": "Python 3",
   "language": "python",
   "name": "python3"
  },
  "language_info": {
   "name": "python",
   "version": "3.9.2"
  },
  "orig_nbformat": 4
 },
 "nbformat": 4,
 "nbformat_minor": 2
}
